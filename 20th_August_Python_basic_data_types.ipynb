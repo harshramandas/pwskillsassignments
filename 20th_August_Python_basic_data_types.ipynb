{
 "cells": [
  {
   "cell_type": "code",
   "execution_count": 2,
   "metadata": {},
   "outputs": [
    {
     "name": "stdout",
     "output_type": "stream",
     "text": [
      "Enter string: harsh\n",
      "Reversed string:  hsrah\n"
     ]
    }
   ],
   "source": [
    "#1. Write a program to reverse a string.\n",
    "s = input(\"Enter string: \")\n",
    "print(\"Reversed string: \", s[-1:-len(s)-1:-1])"
   ]
  },
  {
   "cell_type": "code",
   "execution_count": 3,
   "metadata": {},
   "outputs": [
    {
     "name": "stdout",
     "output_type": "stream",
     "text": [
      "Enter string: mom\n",
      "Palindrome!\n"
     ]
    }
   ],
   "source": [
    "#2. Check if a string is a palindrome.\n",
    "s = input(\"Enter string: \")\n",
    "if s==s[-1:-len(s)-1:-1]:\n",
    "    print(\"Palindrome!\")\n",
    "else:\n",
    "    print(\"Not Palindrome.\")"
   ]
  },
  {
   "cell_type": "code",
   "execution_count": 5,
   "metadata": {},
   "outputs": [
    {
     "name": "stdout",
     "output_type": "stream",
     "text": [
      "Enter string: harsh\n",
      "Uppercase:  HARSH\n"
     ]
    }
   ],
   "source": [
    "#3. Convert a string to uppercase.\n",
    "s = input(\"Enter string: \")\n",
    "print(\"Uppercase: \",s.upper())"
   ]
  },
  {
   "cell_type": "code",
   "execution_count": 6,
   "metadata": {},
   "outputs": [
    {
     "name": "stdout",
     "output_type": "stream",
     "text": [
      "Enter string: RAMAN\n",
      "Lowercase:  raman\n"
     ]
    }
   ],
   "source": [
    "#4. Convert a string to lowercase.\n",
    "s = input(\"Enter string: \")\n",
    "print(\"Lowercase: \",s.lower())"
   ]
  },
  {
   "cell_type": "code",
   "execution_count": 7,
   "metadata": {},
   "outputs": [
    {
     "name": "stdout",
     "output_type": "stream",
     "text": [
      "Enter string: Hello\n",
      "No. of vowels: 2\n"
     ]
    }
   ],
   "source": [
    "#5. Count the number of vowels in a string.\n",
    "s = input(\"Enter string: \")\n",
    "vowels = ['a','e','i','o','u','A','E','I','O','U']\n",
    "c = 0\n",
    "for i in s:\n",
    "    if i in vowels:\n",
    "        c += 1\n",
    "print(\"No. of vowels:\",c)"
   ]
  },
  {
   "cell_type": "code",
   "execution_count": 8,
   "metadata": {},
   "outputs": [
    {
     "name": "stdout",
     "output_type": "stream",
     "text": [
      "Enter string: Raman\n",
      "No. of consonants: 3\n"
     ]
    }
   ],
   "source": [
    "#6. Count the number of consonants in a string.\n",
    "s = input(\"Enter string: \")\n",
    "vowels = ['a','e','i','o','u','A','E','I','O','U']\n",
    "c = 0\n",
    "for i in s:\n",
    "    if i not in vowels:\n",
    "        c += 1\n",
    "print(\"No. of consonants:\",c)"
   ]
  },
  {
   "cell_type": "code",
   "execution_count": 9,
   "metadata": {},
   "outputs": [
    {
     "name": "stdout",
     "output_type": "stream",
     "text": [
      "Enter string: Harsh Raman Das\n",
      "Whitespace removed: HarshRamanDas\n"
     ]
    }
   ],
   "source": [
    "#7. Remove all whitespaces from a string.\n",
    "s = input(\"Enter string: \")\n",
    "c = ''\n",
    "for i in s:\n",
    "    if i != ' ':\n",
    "        c += i\n",
    "print(\"Whitespace removed:\",c)"
   ]
  },
  {
   "cell_type": "code",
   "execution_count": 10,
   "metadata": {},
   "outputs": [
    {
     "name": "stdout",
     "output_type": "stream",
     "text": [
      "Enter string: Harsh\n",
      "Length of string: 5\n"
     ]
    }
   ],
   "source": [
    "#8. Find the length of a string without using the `len()` function.\n",
    "s = input(\"Enter string: \")\n",
    "c = 0\n",
    "for i in s:    \n",
    "    c += 1\n",
    "print(\"Length of string:\",c)"
   ]
  },
  {
   "cell_type": "code",
   "execution_count": 12,
   "metadata": {},
   "outputs": [
    {
     "name": "stdout",
     "output_type": "stream",
     "text": [
      "Enter string: Harsh Raman\n",
      "Enter word: Raman\n",
      "String contains the word!\n"
     ]
    }
   ],
   "source": [
    "#9. Check if a string contains a specific word.\n",
    "s = input(\"Enter string: \")\n",
    "w = input(\"Enter word: \")\n",
    "if w in s:\n",
    "    print(\"String contains the word!\")\n",
    "else:\n",
    "    print(\"String does not contain the word!\")"
   ]
  },
  {
   "cell_type": "code",
   "execution_count": null,
   "metadata": {},
   "outputs": [],
   "source": []
  },
  {
   "cell_type": "code",
   "execution_count": null,
   "metadata": {},
   "outputs": [],
   "source": []
  }
 ],
 "metadata": {
  "kernelspec": {
   "display_name": "Python 3",
   "language": "python",
   "name": "python3"
  },
  "language_info": {
   "codemirror_mode": {
    "name": "ipython",
    "version": 3
   },
   "file_extension": ".py",
   "mimetype": "text/x-python",
   "name": "python",
   "nbconvert_exporter": "python",
   "pygments_lexer": "ipython3",
   "version": "3.7.6"
  }
 },
 "nbformat": 4,
 "nbformat_minor": 4
}
