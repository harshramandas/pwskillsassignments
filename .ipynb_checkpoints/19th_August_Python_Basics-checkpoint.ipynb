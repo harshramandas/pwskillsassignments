{
 "cells": [
  {
   "cell_type": "markdown",
   "metadata": {},
   "source": [
    "# Python Basics Variable"
   ]
  },
  {
   "cell_type": "markdown",
   "metadata": {},
   "source": [
    "1. Declare two variables, `x` and `y`, and assign them integer values. Swap the values of these variables without using any temporary variable."
   ]
  },
  {
   "cell_type": "code",
   "execution_count": 2,
   "metadata": {},
   "outputs": [
    {
     "name": "stdout",
     "output_type": "stream",
     "text": [
      "x=  8\n",
      "y=  5\n"
     ]
    }
   ],
   "source": [
    "x = 5\n",
    "y = 8\n",
    "x = x+y\n",
    "y = x-y\n",
    "x = x-y\n",
    "print(\"x= \",x)\n",
    "print(\"y= \",y)"
   ]
  },
  {
   "cell_type": "markdown",
   "metadata": {},
   "source": [
    "2. Create a program that calculates the area of a rectangle. Take the length and width as inputs from the user and store them in variables. Calculate and display the area."
   ]
  },
  {
   "cell_type": "code",
   "execution_count": 3,
   "metadata": {},
   "outputs": [
    {
     "name": "stdout",
     "output_type": "stream",
     "text": [
      "Length = 2\n",
      "Breadth = 3\n",
      "Area of rectangle =  6\n"
     ]
    }
   ],
   "source": [
    "length = int(input(\"Length = \"))\n",
    "breadth = int(input(\"Breadth = \"))\n",
    "print(\"Area of rectangle = \", length*breadth)"
   ]
  },
  {
   "cell_type": "markdown",
   "metadata": {},
   "source": [
    "3. Write a Python program that converts temperatures from Celsius to Fahrenheit. Take the temperature in Celsius as input, store it in a variable, convert it to Fahrenheit, and display the result."
   ]
  },
  {
   "cell_type": "code",
   "execution_count": 5,
   "metadata": {},
   "outputs": [
    {
     "name": "stdout",
     "output_type": "stream",
     "text": [
      "Enter Celsius temperature: 24\n",
      "Fahrenheit =  75.2\n"
     ]
    }
   ],
   "source": [
    "celsius = float(input(\"Enter Celsius temperature: \"))\n",
    "fahrenheit = (celsius * 9/5) + 32\n",
    "print(\"Fahrenheit = \", fahrenheit)"
   ]
  },
  {
   "cell_type": "markdown",
   "metadata": {},
   "source": [
    "# String Based Questions"
   ]
  },
  {
   "cell_type": "markdown",
   "metadata": {},
   "source": [
    "1. Write a Python program that takes a string as input and prints the length of the string."
   ]
  },
  {
   "cell_type": "code",
   "execution_count": 6,
   "metadata": {},
   "outputs": [
    {
     "name": "stdout",
     "output_type": "stream",
     "text": [
      "Enter string: Hello\n",
      "Length of string is:  5\n"
     ]
    }
   ],
   "source": [
    "s = input(\"Enter string: \")\n",
    "print(\"Length of string is: \", len(s))"
   ]
  },
  {
   "cell_type": "markdown",
   "metadata": {},
   "source": [
    "2. Create a program that takes a sentence from the user and counts the number of vowels (a, e, i, o, u) in the string."
   ]
  },
  {
   "cell_type": "code",
   "execution_count": 7,
   "metadata": {},
   "outputs": [
    {
     "name": "stdout",
     "output_type": "stream",
     "text": [
      "Enter string: raman\n",
      "No. of vowels:  2\n"
     ]
    }
   ],
   "source": [
    "s = input(\"Enter string: \")\n",
    "c = 0\n",
    "for i in s:\n",
    "    if i == 'a' or i == 'A' or i == 'e' or i == 'E' or i == 'i' or i == 'I' or i == 'o' or i == 'O' or i == 'u' or i == 'U':\n",
    "        c += 1\n",
    "print(\"No. of vowels: \", c)"
   ]
  },
  {
   "cell_type": "markdown",
   "metadata": {},
   "source": [
    "3. Given a string, reverse the order of characters using string slicing and print the reversed string."
   ]
  },
  {
   "cell_type": "code",
   "execution_count": 14,
   "metadata": {},
   "outputs": [
    {
     "name": "stdout",
     "output_type": "stream",
     "text": [
      "Enter string: harsh\n",
      "Reversed string hsrah\n"
     ]
    }
   ],
   "source": [
    "s = input(\"Enter string: \")\n",
    "print(\"Reversed string\", s[-1:-len(s)-1:-1])"
   ]
  },
  {
   "cell_type": "markdown",
   "metadata": {},
   "source": [
    "4. Write a program that takes a string as input and checks if it is a palindrome (reads the same forwards and backwards)."
   ]
  },
  {
   "cell_type": "code",
   "execution_count": 16,
   "metadata": {},
   "outputs": [
    {
     "name": "stdout",
     "output_type": "stream",
     "text": [
      "Enter string: mom\n",
      "This is a Palindrome.\n"
     ]
    }
   ],
   "source": [
    "s = input(\"Enter string: \")\n",
    "if s == s[-1:-len(s)-1:-1]:\n",
    "    print(\"This is a Palindrome.\")\n",
    "else:\n",
    "    print(\"This is not a Palindrome.\")"
   ]
  },
  {
   "cell_type": "markdown",
   "metadata": {},
   "source": [
    "5. Create a program that takes a string as input and removes all the spaces from it. Print the modified string without spaces."
   ]
  },
  {
   "cell_type": "code",
   "execution_count": 21,
   "metadata": {},
   "outputs": [
    {
     "name": "stdout",
     "output_type": "stream",
     "text": [
      "Enter string: Harsh Raman Das\n",
      "String without space:  HarshRamanDas\n"
     ]
    }
   ],
   "source": [
    "s = input(\"Enter string: \")\n",
    "new_s = ''\n",
    "for i in s:\n",
    "    if i not in ('\\t',' '):\n",
    "        new_s += i\n",
    "print(\"String without space: \",new_s)"
   ]
  }
 ],
 "metadata": {
  "kernelspec": {
   "display_name": "Python 3",
   "language": "python",
   "name": "python3"
  },
  "language_info": {
   "codemirror_mode": {
    "name": "ipython",
    "version": 3
   },
   "file_extension": ".py",
   "mimetype": "text/x-python",
   "name": "python",
   "nbconvert_exporter": "python",
   "pygments_lexer": "ipython3",
   "version": "3.7.6"
  }
 },
 "nbformat": 4,
 "nbformat_minor": 4
}
